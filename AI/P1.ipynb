{
 "cells": [
  {
   "cell_type": "code",
   "execution_count": 5,
   "metadata": {},
   "outputs": [
    {
     "name": "stdout",
     "output_type": "stream",
     "text": [
      "<class 'pandas.core.frame.DataFrame'>\n",
      "RangeIndex: 5707 entries, 0 to 5706\n",
      "Data columns (total 7 columns):\n",
      " #   Column             Non-Null Count  Dtype \n",
      "---  ------             --------------  ----- \n",
      " 0   OCC_DOY            5707 non-null   int64 \n",
      " 1   OCC_YEAR           5707 non-null   int64 \n",
      " 2   OCC_MONTH          5707 non-null   object\n",
      " 3   DEATH              5707 non-null   int64 \n",
      " 4   INJURIES           5707 non-null   int64 \n",
      " 5   HOOD_158           5707 non-null   object\n",
      " 6   NEIGHBOURHOOD_158  5707 non-null   object\n",
      "dtypes: int64(4), object(3)\n",
      "memory usage: 312.2+ KB\n"
     ]
    },
    {
     "data": {
      "text/plain": [
       "64"
      ]
     },
     "execution_count": 5,
     "metadata": {},
     "output_type": "execute_result"
    }
   ],
   "source": [
    "#import library.\n",
    "import pandas as pd\n",
    "import matplotlib.pyplot as plt\n",
    "import seaborn as sns\n",
    "#Reading the sales_data csv file, loading the dataset.\n",
    "df = pd.read_excel(\"C:/Ai/Group Project Data-SFD Data-Toronto Police (1).xlsx\")\n",
    "df2 = df[['OCC_DOY', 'OCC_YEAR', 'OCC_MONTH', 'DEATH', 'INJURIES','HOOD_158', 'NEIGHBOURHOOD_158']]\n",
    "df2.info()\n",
    "df2.isnull().sum()\n",
    "df2.HOOD_158.value_counts().NSA"
   ]
  }
 ],
 "metadata": {
  "kernelspec": {
   "display_name": "Python 3",
   "language": "python",
   "name": "python3"
  },
  "language_info": {
   "codemirror_mode": {
    "name": "ipython",
    "version": 3
   },
   "file_extension": ".py",
   "mimetype": "text/x-python",
   "name": "python",
   "nbconvert_exporter": "python",
   "pygments_lexer": "ipython3",
   "version": "3.9.6"
  },
  "orig_nbformat": 4
 },
 "nbformat": 4,
 "nbformat_minor": 2
}
