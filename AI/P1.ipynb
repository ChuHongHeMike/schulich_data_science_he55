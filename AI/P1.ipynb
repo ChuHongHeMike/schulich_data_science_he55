{
 "cells": [
  {
   "cell_type": "code",
   "execution_count": 2,
   "metadata": {},
   "outputs": [
    {
     "name": "stdout",
     "output_type": "stream",
     "text": [
      "<class 'pandas.core.frame.DataFrame'>\n",
      "RangeIndex: 5707 entries, 0 to 5706\n",
      "Data columns (total 8 columns):\n",
      " #   Column                           Non-Null Count  Dtype \n",
      "---  ------                           --------------  ----- \n",
      " 0   OCC_DOY                          5707 non-null   int64 \n",
      " 1   OCC_YEAR                         5707 non-null   int64 \n",
      " 2   OCC_MONTH                        5707 non-null   object\n",
      " 3   DEATH                            5707 non-null   int64 \n",
      " 4   INJURIES                         5707 non-null   int64 \n",
      " 5   HOOD_158                         5707 non-null   object\n",
      " 6   NEIGHBOURHOOD_158                5707 non-null   object\n",
      " 7   The total of Death and Injuries  5707 non-null   int64 \n",
      "dtypes: int64(5), object(3)\n",
      "memory usage: 356.8+ KB\n"
     ]
    },
    {
     "name": "stderr",
     "output_type": "stream",
     "text": [
      "C:\\Users\\hechu\\AppData\\Local\\Temp\\ipykernel_20772\\1287236448.py:9: SettingWithCopyWarning: \n",
      "A value is trying to be set on a copy of a slice from a DataFrame.\n",
      "Try using .loc[row_indexer,col_indexer] = value instead\n",
      "\n",
      "See the caveats in the documentation: https://pandas.pydata.org/pandas-docs/stable/user_guide/indexing.html#returning-a-view-versus-a-copy\n",
      "  df2['The total of Death and Injuries'] = df2['DEATH'] + df2['INJURIES']\n"
     ]
    }
   ],
   "source": [
    "#import library.\n",
    "import pandas as pd\n",
    "import matplotlib.pyplot as plt\n",
    "import seaborn as sns\n",
    "import numpy as np\n",
    "#Reading the sales_data csv file, loading the dataset.\n",
    "df = pd.read_excel(\"C:/Ai/Group Project Data-SFD Data-Toronto Police (1).xlsx\")\n",
    "df2 = df[['OCC_DOY', 'OCC_YEAR', 'OCC_MONTH', 'DEATH', 'INJURIES','HOOD_158', 'NEIGHBOURHOOD_158']]\n",
    "df2['The total of Death and Injuries'] = df2['DEATH'] + df2['INJURIES']\n",
    "df2.info()\n"
   ]
  },
  {
   "cell_type": "code",
   "execution_count": 147,
   "metadata": {},
   "outputs": [
    {
     "data": {
      "text/html": [
       "<div>\n",
       "<style scoped>\n",
       "    .dataframe tbody tr th:only-of-type {\n",
       "        vertical-align: middle;\n",
       "    }\n",
       "\n",
       "    .dataframe tbody tr th {\n",
       "        vertical-align: top;\n",
       "    }\n",
       "\n",
       "    .dataframe thead th {\n",
       "        text-align: right;\n",
       "    }\n",
       "</style>\n",
       "<table border=\"1\" class=\"dataframe\">\n",
       "  <thead>\n",
       "    <tr style=\"text-align: right;\">\n",
       "      <th></th>\n",
       "      <th>OCC_YEAR</th>\n",
       "      <th>Total_counts</th>\n",
       "      <th>The total of Death and Injuries</th>\n",
       "    </tr>\n",
       "  </thead>\n",
       "  <tbody>\n",
       "    <tr>\n",
       "      <th>0</th>\n",
       "      <td>2004</td>\n",
       "      <td>191</td>\n",
       "      <td>122</td>\n",
       "    </tr>\n",
       "    <tr>\n",
       "      <th>1</th>\n",
       "      <td>2005</td>\n",
       "      <td>262</td>\n",
       "      <td>231</td>\n",
       "    </tr>\n",
       "    <tr>\n",
       "      <th>2</th>\n",
       "      <td>2006</td>\n",
       "      <td>215</td>\n",
       "      <td>202</td>\n",
       "    </tr>\n",
       "    <tr>\n",
       "      <th>3</th>\n",
       "      <td>2007</td>\n",
       "      <td>207</td>\n",
       "      <td>173</td>\n",
       "    </tr>\n",
       "    <tr>\n",
       "      <th>4</th>\n",
       "      <td>2008</td>\n",
       "      <td>238</td>\n",
       "      <td>208</td>\n",
       "    </tr>\n",
       "    <tr>\n",
       "      <th>5</th>\n",
       "      <td>2009</td>\n",
       "      <td>252</td>\n",
       "      <td>181</td>\n",
       "    </tr>\n",
       "    <tr>\n",
       "      <th>6</th>\n",
       "      <td>2010</td>\n",
       "      <td>259</td>\n",
       "      <td>170</td>\n",
       "    </tr>\n",
       "    <tr>\n",
       "      <th>7</th>\n",
       "      <td>2011</td>\n",
       "      <td>227</td>\n",
       "      <td>141</td>\n",
       "    </tr>\n",
       "    <tr>\n",
       "      <th>8</th>\n",
       "      <td>2012</td>\n",
       "      <td>219</td>\n",
       "      <td>148</td>\n",
       "    </tr>\n",
       "    <tr>\n",
       "      <th>9</th>\n",
       "      <td>2013</td>\n",
       "      <td>204</td>\n",
       "      <td>141</td>\n",
       "    </tr>\n",
       "    <tr>\n",
       "      <th>10</th>\n",
       "      <td>2014</td>\n",
       "      <td>177</td>\n",
       "      <td>103</td>\n",
       "    </tr>\n",
       "    <tr>\n",
       "      <th>11</th>\n",
       "      <td>2015</td>\n",
       "      <td>288</td>\n",
       "      <td>152</td>\n",
       "    </tr>\n",
       "    <tr>\n",
       "      <th>12</th>\n",
       "      <td>2016</td>\n",
       "      <td>407</td>\n",
       "      <td>193</td>\n",
       "    </tr>\n",
       "    <tr>\n",
       "      <th>13</th>\n",
       "      <td>2017</td>\n",
       "      <td>392</td>\n",
       "      <td>187</td>\n",
       "    </tr>\n",
       "    <tr>\n",
       "      <th>14</th>\n",
       "      <td>2018</td>\n",
       "      <td>427</td>\n",
       "      <td>229</td>\n",
       "    </tr>\n",
       "    <tr>\n",
       "      <th>15</th>\n",
       "      <td>2019</td>\n",
       "      <td>492</td>\n",
       "      <td>284</td>\n",
       "    </tr>\n",
       "    <tr>\n",
       "      <th>16</th>\n",
       "      <td>2020</td>\n",
       "      <td>462</td>\n",
       "      <td>217</td>\n",
       "    </tr>\n",
       "    <tr>\n",
       "      <th>17</th>\n",
       "      <td>2021</td>\n",
       "      <td>409</td>\n",
       "      <td>209</td>\n",
       "    </tr>\n",
       "    <tr>\n",
       "      <th>18</th>\n",
       "      <td>2022</td>\n",
       "      <td>379</td>\n",
       "      <td>194</td>\n",
       "    </tr>\n",
       "  </tbody>\n",
       "</table>\n",
       "</div>"
      ],
      "text/plain": [
       "    OCC_YEAR  Total_counts  The total of Death and Injuries\n",
       "0       2004           191                              122\n",
       "1       2005           262                              231\n",
       "2       2006           215                              202\n",
       "3       2007           207                              173\n",
       "4       2008           238                              208\n",
       "5       2009           252                              181\n",
       "6       2010           259                              170\n",
       "7       2011           227                              141\n",
       "8       2012           219                              148\n",
       "9       2013           204                              141\n",
       "10      2014           177                              103\n",
       "11      2015           288                              152\n",
       "12      2016           407                              193\n",
       "13      2017           392                              187\n",
       "14      2018           427                              229\n",
       "15      2019           492                              284\n",
       "16      2020           462                              217\n",
       "17      2021           409                              209\n",
       "18      2022           379                              194"
      ]
     },
     "execution_count": 147,
     "metadata": {},
     "output_type": "execute_result"
    }
   ],
   "source": [
    "df3=df2.groupby(['OCC_YEAR']).size().reset_index(name = 'Total_counts')\n",
    "df3=df3.merge(df2.groupby('OCC_YEAR')['The total of Death and Injuries'].agg('sum').reset_index())\n",
    "df3\n"
   ]
  },
  {
   "cell_type": "code",
   "execution_count": 3,
   "metadata": {},
   "outputs": [],
   "source": []
  },
  {
   "cell_type": "code",
   "execution_count": 155,
   "metadata": {},
   "outputs": [
    {
     "data": {
      "image/png": "[encoded data removed]",
      "text/plain": [
       "<Figure size 1000x400 with 1 Axes>"
      ]
     },
     "metadata": {},
     "output_type": "display_data"
    }
   ],
   "source": [
    "fig, ax = plt.subplots(figsize=(10, 4))\n",
    "df3.plot.bar(\n",
    "    x = 'OCC_YEAR',\n",
    "    y = 'Total_counts',\n",
    "    ax=ax, \n",
    "    position=0,\n",
    "    width = 0.2\n",
    ")\n",
    "df3.plot.bar(\n",
    "    x = 'OCC_YEAR',\n",
    "    y = 'The total of Death and Injuries',\n",
    "    ax=ax, \n",
    "    position=1,\n",
    "    color='red',\n",
    "    width = 0.2\n",
    ")\n",
    "plt.show()"
   ]
  },
  {
   "cell_type": "code",
   "execution_count": 3,
   "metadata": {},
   "outputs": [
    {
     "data": {
      "image/png": "[encoded data removed]",
      "text/plain": [
       "<Figure size 800x400 with 1 Axes>"
      ]
     },
     "metadata": {},
     "output_type": "display_data"
    }
   ],
   "source": [
    "death_count = df.groupby('OCC_YEAR')['DEATH'].sum().head(20)\n",
    "#print(death_count)\n",
    "injuries_count = df.groupby('OCC_YEAR')['INJURIES'].sum().head(20)\n",
    "#print(injuries_count)\n",
    "fig, ax = plt.subplots(figsize=(8, 4))\n",
    "\n",
    "death_count = death_count.plot(kind='bar', ax=ax, width=0.4, position=0, label='Death Count')\n",
    "\n",
    "injuries_coun = injuries_count.plot(kind='bar', ax=ax, width = 0.4, position=1, color='orange', label='Injuries Count')\n",
    "\n",
    "ax.set_xlabel('Year')\n",
    "ax.set_ylabel('Count')\n",
    "ax.set_title('Death and Injuries Count from 2004 to 2022')\n",
    "\n",
    "ax.legend()\n",
    "plt.show()\n"
   ]
  },
  {
   "cell_type": "code",
   "execution_count": null,
   "metadata": {},
   "outputs": [],
   "source": []
  }
 ],
 "metadata": {
  "kernelspec": {
   "display_name": "Python 3",
   "language": "python",
   "name": "python3"
  },
  "language_info": {
   "codemirror_mode": {
    "name": "ipython",
    "version": 3
   },
   "file_extension": ".py",
   "mimetype": "text/x-python",
   "name": "python",
   "nbconvert_exporter": "python",
   "pygments_lexer": "ipython3",
   "version": "3.9.6"
  },
  "orig_nbformat": 4
 },
 "nbformat": 4,
 "nbformat_minor": 2
}
