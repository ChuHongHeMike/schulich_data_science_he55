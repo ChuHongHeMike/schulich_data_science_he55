{
 "cells": [
  {
   "cell_type": "code",
   "execution_count": 10,
   "metadata": {},
   "outputs": [
    {
     "name": "stdout",
     "output_type": "stream",
     "text": [
      "<class 'pandas.core.frame.DataFrame'>\n",
      "RangeIndex: 5707 entries, 0 to 5706\n",
      "Data columns (total 5 columns):\n",
      " #   Column     Non-Null Count  Dtype \n",
      "---  ------     --------------  ----- \n",
      " 0   OCC_DOY    5707 non-null   int64 \n",
      " 1   OCC_YEAR   5707 non-null   int64 \n",
      " 2   OCC_MONTH  5707 non-null   object\n",
      " 3   DEATH      5707 non-null   int64 \n",
      " 4   INJURIES   5707 non-null   int64 \n",
      "dtypes: int64(4), object(1)\n",
      "memory usage: 223.1+ KB\n"
     ]
    },
    {
     "data": {
      "text/plain": [
       "OCC_DOY      0\n",
       "OCC_YEAR     0\n",
       "OCC_MONTH    0\n",
       "DEATH        0\n",
       "INJURIES     0\n",
       "dtype: int64"
      ]
     },
     "execution_count": 10,
     "metadata": {},
     "output_type": "execute_result"
    }
   ],
   "source": [
    "#import library.\n",
    "import pandas as pd\n",
    "import matplotlib.pyplot as plt\n",
    "import seaborn as sns\n",
    "#Reading the sales_data csv file, loading the dataset.\n",
    "df = pd.read_excel(\"C:/Ai/Group Project Data-SFD Data-Toronto Police (1).xlsx\")\n",
    "df2 = df[['OCC_DOY', 'OCC_YEAR', 'OCC_MONTH', 'DEATH', 'INJURIES']]\n",
    "df2.info()\n",
    "df2.isnull().sum()"
   ]
  }
 ],
 "metadata": {
  "kernelspec": {
   "display_name": "Python 3",
   "language": "python",
   "name": "python3"
  },
  "language_info": {
   "codemirror_mode": {
    "name": "ipython",
    "version": 3
   },
   "file_extension": ".py",
   "mimetype": "text/x-python",
   "name": "python",
   "nbconvert_exporter": "python",
   "pygments_lexer": "ipython3",
   "version": "3.9.6"
  },
  "orig_nbformat": 4
 },
 "nbformat": 4,
 "nbformat_minor": 2
}
