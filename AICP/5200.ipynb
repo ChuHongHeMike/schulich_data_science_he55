{
 "cells": [
  {
   "cell_type": "code",
   "execution_count": 2,
   "metadata": {},
   "outputs": [],
   "source": [
    "from ortools.linear_solver import pywraplp\n",
    "\n",
    "solver = pywraplp.Solver.CreateSolver('GLOP')\n",
    "\n",
    "x1 = solver.NumVar(0, solver.infinity(), 'x1')\n",
    "x2 = solver.NumVar(0, solver.infinity(), 'x2')"
   ]
  },
  {
   "cell_type": "code",
   "execution_count": 5,
   "metadata": {},
   "outputs": [
    {
     "name": "stdout",
     "output_type": "stream",
     "text": [
      "value 325.0\n",
      "x1: 0.9999999999999998\n",
      "x2: 1.5000000000000002\n"
     ]
    }
   ],
   "source": [
    "solver.Add(x1 + 2*x2 <= 5)\n",
    "solver.Add(3*x1 + 2*x2 <= 6)\n",
    "solver.Add(100*x1 + 200*x2 <= 400)\n",
    "solver.Maximize(100*x1 + 150*x2)\n",
    "\n",
    "status = solver.Solve()\n",
    "\n",
    "if status == pywraplp.Solver.OPTIMAL:\n",
    "    print('value', solver.Objective().Value())\n",
    "    print('x1:', x1.solution_value())\n",
    "    print('x2:', x2.solution_value())\n",
    "else:\n",
    "    print('no')"
   ]
  }
 ],
 "metadata": {
  "kernelspec": {
   "display_name": "Python 3",
   "language": "python",
   "name": "python3"
  },
  "language_info": {
   "codemirror_mode": {
    "name": "ipython",
    "version": 3
   },
   "file_extension": ".py",
   "mimetype": "text/x-python",
   "name": "python",
   "nbconvert_exporter": "python",
   "pygments_lexer": "ipython3",
   "version": "3.9.6"
  }
 },
 "nbformat": 4,
 "nbformat_minor": 2
}
