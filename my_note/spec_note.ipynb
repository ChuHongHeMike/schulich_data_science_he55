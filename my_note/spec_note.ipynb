{
 "cells": [
  {
   "cell_type": "code",
   "execution_count": 2,
   "metadata": {},
   "outputs": [
    {
     "ename": "SyntaxError",
     "evalue": "invalid syntax (4256669428.py, line 6)",
     "output_type": "error",
     "traceback": [
      "\u001b[1;36m  Input \u001b[1;32mIn [2]\u001b[1;36m\u001b[0m\n\u001b[1;33m    --------------------------------------------------------------\u001b[0m\n\u001b[1;37m                                                                  ^\u001b[0m\n\u001b[1;31mSyntaxError\u001b[0m\u001b[1;31m:\u001b[0m invalid syntax\n"
     ]
    }
   ],
   "source": [
    "params_svc = {'kernel':['rbf', 'linear', 'poly','sigmoid']}\n",
    "#svc is model SVM\n",
    "randomsearch_svc = RandomizedSearchCV(svc, param_distributions = params_svc, cv=10, n_iter= 15, scoring='f1')\n",
    "randomsearch_svc.fit(x_train,y_train)\n",
    "\n",
    "--------------------------------------------------------------\n",
    "model = LogisticRegression()\n",
    "# 定义参数范围\n",
    "param_dist = {\n",
    "    'C': [0.01, 0.1, 1, 10],\n",
    "    'penalty': ['l1', 'l2'],\n",
    "    'solver': ['liblinear', 'saga']\n",
    "}\n",
    "# 创建 RandomizedSearchCV 实例\n",
    "random_search = RandomizedSearchCV(\n",
    "    model, param_distributions=param_dist, n_iter=10, cv=5, scoring='accuracy', random_state=42\n",
    ")\n",
    "# 运行搜索\n",
    "random_search.fit(X_train, y_train)\n",
    "---------------------------------------------------------------\n",
    "knn_params = {'n_neighbors':range(50,300)}\n",
    "rs_knn = RandomizedSearchCV(knn, knn_params, n_iter=10, cv=5, scoring='f1')\n",
    "rs_knn.fit(X_train,y_train)\n",
    "rs_knn.best_estimator_\n",
    "----------------------------------------------------------------\n",
    "knn_best = KNeighborsClassifier(**gridsearch_knn.best_params_)                                #knn_and_naive_bayes\n",
    "# 定义 KNeighborsClassifier 模型\n",
    "model = KNeighborsClassifier()\n",
    "# 定义参数范围\n",
    "param_dist = {\n",
    "    'n_neighbors': [3, 5, 7, 9],\n",
    "    'weights': ['uniform', 'distance'],\n",
    "    'p': [1, 2]\n",
    "}\n",
    "# 创建 RandomizedSearchCV 实例\n",
    "random_search = RandomizedSearchCV(\n",
    "    model, param_distributions=param_dist, n_iter=10, cv=5, scoring='accuracy', random_state=42\n",
    ")\n",
    "# 运行搜索\n",
    "random_search.fit(X_train, y_train)\n",
    "# 使用找到的最佳超参数创建新的 KNeighborsClassifier 实例\n",
    "knn_best = KNeighborsClassifier(**random_search.best_params_)\n",
    "\n",
    "------------------------------------------------------------\n",
    "params_nb = {'var_smoothing': np.logspace(0,-9, num=100)}\n",
    "nb = GaussianNB()\n",
    "gridsearch_knn = GridSearchCV(knn, params_knn, cv=10, scoring='recall')\n",
    "gridsearch_knn.fit(X_train_transformed, y_train)\n",
    "nb_best = GaussianNB(**gridsearch_nb.best_params_)\n",
    "#需要注意一点：GaussianNB 模型并没有像其他模型那样具有需要调整的超参数，因为它是基于朴素贝叶斯方法的，不涉及像决策树深度、KNN 邻居数量等需要调整的参数。\n",
    "---------------------------------------\n",
    "# build pipeline\n",
    "cat_transformer = OneHotEncoder(handle_unknown='ignore')\n",
    "num_transformer = StandardScaler()\n",
    "preprocessor = ColumnTransformer(transformers = [('cat',cat_transformer, cat_columns),\n",
    "                                                 ('num', num_transformer, num_columns)])\n",
    "linear_regression = Pipeline(steps = [\n",
    "    ('preprocessor', preprocessor),\n",
    "    ('regressor', LinearRegression())\n",
    "])\n",
    "lasso_regression = Pipeline(steps = [\n",
    "    ('preprocessor', preprocessor),\n",
    "    ('regressor', Lasso(alpha=1.0))\n",
    "])\n",
    "#np.sqrt(mean_squared_error(pred_ridge,y_test))\n",
    "---------------------------------------\n",
    "#召回率（Recall）：\n",
    "\n",
    "#召回率是指在所有实际为正类的样本中，被正确预测为正类的比例。召回率衡量了模型对于正类样本的覆盖能力。\n",
    "\n",
    "#精确率（Precision）\n",
    "#精确率是指在所有预测为正类的样本中，实际为正类的比例。精确率衡量了模型在预测为正类的样本中的准确性。"
   ]
  },
  {
   "cell_type": "markdown",
   "metadata": {},
   "source": [
    "CV is cross validation, n_iter is number of iterations. This is hyperparamenter tunning"
   ]
  },
  {
   "cell_type": "markdown",
   "metadata": {},
   "source": []
  }
 ],
 "metadata": {
  "kernelspec": {
   "display_name": "Python 3",
   "language": "python",
   "name": "python3"
  },
  "language_info": {
   "codemirror_mode": {
    "name": "ipython",
    "version": 3
   },
   "file_extension": ".py",
   "mimetype": "text/x-python",
   "name": "python",
   "nbconvert_exporter": "python",
   "pygments_lexer": "ipython3",
   "version": "3.9.6"
  },
  "orig_nbformat": 4
 },
 "nbformat": 4,
 "nbformat_minor": 2
}
