{
 "cells": [
  {
   "attachments": {},
   "cell_type": "markdown",
   "metadata": {},
   "source": [
    "# Chapter 6: Multiple Linear Regression\n",
    "\n",
    "> (c) 2019 Galit Shmueli, Peter C. Bruce, Peter Gedeck \n",
    ">\n",
    "> Code included in\n",
    ">\n",
    "> _Data Mining for Business Analytics: Concepts, Techniques, and Applications in Python_ (First Edition) \n",
    "> Galit Shmueli, Peter C. Bruce, Peter Gedeck, and Nitin R. Patel. 2019.\n",
    "\n",
    "## Import required packages"
   ]
  },
  {
   "cell_type": "code",
   "execution_count": 2,
   "metadata": {
    "execution": {
     "iopub.execute_input": "2023-04-26T18:39:56.125805Z",
     "iopub.status.busy": "2023-04-26T18:39:56.125491Z",
     "iopub.status.idle": "2023-04-26T18:39:57.160319Z",
     "shell.execute_reply": "2023-04-26T18:39:57.158673Z"
    }
   },
   "outputs": [],
   "source": [
    "from pathlib import Path\n",
    "\n",
    "import pandas as pd\n",
    "from sklearn.model_selection import train_test_split\n",
    "from sklearn.linear_model import LinearRegression, Lasso, Ridge, LassoCV, BayesianRidge\n",
    "import statsmodels.formula.api as sm\n",
    "import matplotlib.pylab as plt\n",
    "\n",
    "import dmba\n",
    "from dmba import regressionSummary, exhaustive_search\n",
    "from dmba import backward_elimination, forward_selection, stepwise_selection\n",
    "from dmba import adjusted_r2_score, AIC_score, BIC_score\n",
    "\n",
    "%matplotlib inline\n"
   ]
  },
  {
   "cell_type": "code",
   "execution_count": 4,
   "metadata": {},
   "outputs": [
    {
     "name": "stdout",
     "output_type": "stream",
     "text": [
      "Collecting statsmodelsNote: you may need to restart the kernel to use updated packages.\n"
     ]
    },
    {
     "name": "stderr",
     "output_type": "stream",
     "text": [
      "WARNING: You are using pip version 21.1.3; however, version 23.1.2 is available.\n",
      "You should consider upgrading via the 'c:\\Users\\hechu\\AppData\\Local\\Programs\\Python\\Python39\\python.exe -m pip install --upgrade pip' command.\n"
     ]
    },
    {
     "name": "stdout",
     "output_type": "stream",
     "text": [
      "\n",
      "  Downloading statsmodels-0.14.0-cp39-cp39-win_amd64.whl (9.4 MB)\n",
      "Collecting patsy>=0.5.2\n",
      "  Downloading patsy-0.5.3-py2.py3-none-any.whl (233 kB)\n",
      "Requirement already satisfied: numpy>=1.18 in c:\\users\\hechu\\appdata\\local\\programs\\python\\python39\\lib\\site-packages (from statsmodels) (1.20.3)\n",
      "Requirement already satisfied: pandas>=1.0 in c:\\users\\hechu\\appdata\\local\\programs\\python\\python39\\lib\\site-packages (from statsmodels) (2.0.1)\n",
      "Requirement already satisfied: packaging>=21.3 in c:\\users\\hechu\\appdata\\local\\programs\\python\\python39\\lib\\site-packages (from statsmodels) (21.3)\n",
      "Requirement already satisfied: scipy!=1.9.2,>=1.4 in c:\\users\\hechu\\appdata\\local\\programs\\python\\python39\\lib\\site-packages (from statsmodels) (1.10.1)\n",
      "Requirement already satisfied: pyparsing!=3.0.5,>=2.0.2 in c:\\users\\hechu\\appdata\\local\\programs\\python\\python39\\lib\\site-packages (from packaging>=21.3->statsmodels) (3.0.9)\n",
      "Requirement already satisfied: tzdata>=2022.1 in c:\\users\\hechu\\appdata\\local\\programs\\python\\python39\\lib\\site-packages (from pandas>=1.0->statsmodels) (2023.3)\n",
      "Requirement already satisfied: python-dateutil>=2.8.2 in c:\\users\\hechu\\appdata\\local\\programs\\python\\python39\\lib\\site-packages (from pandas>=1.0->statsmodels) (2.8.2)\n",
      "Requirement already satisfied: pytz>=2020.1 in c:\\users\\hechu\\appdata\\local\\programs\\python\\python39\\lib\\site-packages (from pandas>=1.0->statsmodels) (2023.3)\n",
      "Requirement already satisfied: six in c:\\users\\hechu\\appdata\\local\\programs\\python\\python39\\lib\\site-packages (from patsy>=0.5.2->statsmodels) (1.16.0)\n",
      "Installing collected packages: patsy, statsmodels\n",
      "Successfully installed patsy-0.5.3 statsmodels-0.14.0\n"
     ]
    }
   ],
   "source": [
    "#pip install statsmodels"
   ]
  },
  {
   "attachments": {},
   "cell_type": "markdown",
   "metadata": {},
   "source": [
    "## Table 6.3"
   ]
  },
  {
   "cell_type": "code",
   "execution_count": 3,
   "metadata": {
    "execution": {
     "iopub.execute_input": "2023-04-26T18:39:57.163842Z",
     "iopub.status.busy": "2023-04-26T18:39:57.163437Z",
     "iopub.status.idle": "2023-04-26T18:39:57.191468Z",
     "shell.execute_reply": "2023-04-26T18:39:57.190527Z"
    },
    "scrolled": false
   },
   "outputs": [
    {
     "name": "stdout",
     "output_type": "stream",
     "text": [
      "intercept  10507.531598087164\n",
      "           Predictor  coefficient\n",
      "0          Age_08_04  -113.694378\n",
      "1                 KM    -0.019815\n",
      "2                 HP    32.636613\n",
      "3          Automatic   689.861569\n",
      "4              Doors   171.014809\n",
      "5      Quarterly_Tax    17.326548\n",
      "6      Mfr_Guarantee   124.590446\n",
      "7   Guarantee_Period    81.154819\n",
      "8              Airco   155.731656\n",
      "9    Automatic_airco  3025.204329\n",
      "10         CD_Player   399.634465\n",
      "11   Powered_Windows   499.226837\n",
      "12       Sport_Model   604.651494\n",
      "13           Tow_Bar  -125.630928\n",
      "14  Fuel_Type_Diesel   953.660217\n",
      "15  Fuel_Type_Petrol  1254.423913\n",
      "\n",
      "Regression statistics\n",
      "\n",
      "                      Mean Error (ME) : 0.0000\n",
      "       Root Mean Squared Error (RMSE) : 1244.5216\n",
      "            Mean Absolute Error (MAE) : 945.9544\n",
      "          Mean Percentage Error (MPE) : -0.8986\n",
      "Mean Absolute Percentage Error (MAPE) : 8.2421\n"
     ]
    }
   ],
   "source": [
    "# Reduce data frame to the top 1000 rows and select columns for regression analysis\n",
    "car_df = dmba.load_data('ToyotaCorolla.csv')\n",
    "car_df = car_df.iloc[0:1000]\n",
    "\n",
    "predictors = ['Age_08_04', \n",
    "              'KM', 'Fuel_Type', 'HP', 'Automatic', 'Doors', \n",
    "              'Quarterly_Tax', 'Mfr_Guarantee', 'Guarantee_Period', 'Airco', 'Automatic_airco', 'CD_Player', 'Powered_Windows', \n",
    "              'Sport_Model', 'Tow_Bar']\n",
    "outcome = 'Price'\n",
    "\n",
    "# partition data\n",
    "X = pd.get_dummies(car_df[predictors], drop_first=True)\n",
    "y = car_df[outcome]\n",
    "train_X, valid_X, train_y, valid_y = train_test_split(X, y, test_size=0.2, train_size=0.5, random_state=1)\n",
    "\n",
    "car_lm = LinearRegression()\n",
    "car_lm.fit(train_X, train_y)\n",
    "\n",
    "# print coefficients\n",
    "print('intercept ', car_lm.intercept_)\n",
    "print(pd.DataFrame({'Predictor': X.columns, 'coefficient': car_lm.coef_}))\n",
    "\n",
    "# print performance measures\n",
    "regressionSummary(train_y, car_lm.predict(train_X))"
   ]
  },
  {
   "cell_type": "code",
   "execution_count": 14,
   "metadata": {
    "execution": {
     "iopub.execute_input": "2023-04-26T18:39:57.194897Z",
     "iopub.status.busy": "2023-04-26T18:39:57.194008Z",
     "iopub.status.idle": "2023-04-26T18:39:57.201884Z",
     "shell.execute_reply": "2023-04-26T18:39:57.200982Z"
    }
   },
   "outputs": [
    {
     "name": "stdout",
     "output_type": "stream",
     "text": [
      "adjusted r2 :  0.8882954065407929\n",
      "AIC :  8581.44504236433\n",
      "BIC :  8657.30798813593\n"
     ]
    }
   ],
   "source": [
    "pred_y = car_lm.predict(train_X)\n",
    "\n",
    "print('adjusted r2 : ', adjusted_r2_score(train_y, pred_y, car_lm))\n",
    "print('AIC : ', AIC_score(train_y, pred_y, car_lm))\n",
    "print('BIC : ', BIC_score(train_y, pred_y, car_lm))"
   ]
  },
  {
   "attachments": {},
   "cell_type": "markdown",
   "metadata": {},
   "source": [
    "## Table 6.4"
   ]
  },
  {
   "cell_type": "code",
   "execution_count": 15,
   "metadata": {
    "execution": {
     "iopub.execute_input": "2023-04-26T18:39:57.204779Z",
     "iopub.status.busy": "2023-04-26T18:39:57.204231Z",
     "iopub.status.idle": "2023-04-26T18:39:57.214193Z",
     "shell.execute_reply": "2023-04-26T18:39:57.213343Z"
    }
   },
   "outputs": [
    {
     "name": "stdout",
     "output_type": "stream",
     "text": [
      "        Predicted  Actual     Residual\n",
      "507  10282.576489   11500  1217.423511\n",
      "818  10428.647518    8950 -1478.647518\n",
      "452  11037.968281   11450   412.031719\n",
      "368  13742.698836   11450 -2292.698836\n",
      "242  11915.384527   11950    34.615473\n",
      "929   9804.992294    9995   190.007706\n",
      "262  13065.595182   13500   434.404818\n",
      "810   9237.326625    7950 -1287.326625\n",
      "318  11496.031566    9900 -1596.031566\n",
      "49   20456.660876   21950  1493.339124\n",
      "446  11368.817783   11950   581.182217\n",
      "142  20829.701664   19950  -879.701664\n",
      "968  11054.525911    9950 -1104.525911\n",
      "345  13874.867091   14950  1075.132909\n",
      "971   8814.177442   10495  1680.822558\n",
      "133  17307.551722   15950 -1357.551722\n",
      "104  18374.582830   19450  1075.417170\n",
      "6    15108.727407   16900  1791.272593\n",
      "600  12852.378895   11250 -1602.378895\n",
      "496  11278.987644   11750   471.012356\n",
      "\n",
      "Regression statistics\n",
      "\n",
      "                      Mean Error (ME) : -44.2898\n",
      "       Root Mean Squared Error (RMSE) : 1241.0357\n",
      "            Mean Absolute Error (MAE) : 946.7135\n",
      "          Mean Percentage Error (MPE) : -1.9049\n",
      "Mean Absolute Percentage Error (MAPE) : 8.6060\n"
     ]
    }
   ],
   "source": [
    "# Use predict() to make predictions on a new set\n",
    "car_lm_pred = car_lm.predict(valid_X)\n",
    "\n",
    "result = pd.DataFrame({'Predicted': car_lm_pred, 'Actual': valid_y,\n",
    "                       'Residual': valid_y - car_lm_pred})\n",
    "print(result.head(20))\n",
    "\n",
    "# Compute common accuracy measures\n",
    "regressionSummary(valid_y, car_lm_pred)"
   ]
  },
  {
   "attachments": {},
   "cell_type": "markdown",
   "metadata": {},
   "source": [
    "## Figure 6.1\n",
    "Determine the residuals and create a histogram"
   ]
  },
  {
   "cell_type": "code",
   "execution_count": 27,
   "metadata": {
    "execution": {
     "iopub.execute_input": "2023-04-26T18:39:57.216979Z",
     "iopub.status.busy": "2023-04-26T18:39:57.216641Z",
     "iopub.status.idle": "2023-04-26T18:39:57.543314Z",
     "shell.execute_reply": "2023-04-26T18:39:57.542469Z"
    }
   },
   "outputs": [
    {
     "name": "stdout",
     "output_type": "stream",
     "text": [
      "0.77\n"
     ]
    },
    {
     "data": {
      "image/png": "[encoded data removed]",
      "text/plain": [
       "<Figure size 640x480 with 1 Axes>"
      ]
     },
     "metadata": {},
     "output_type": "display_data"
    }
   ],
   "source": [
    "car_lm_pred = car_lm.predict(valid_X)\n",
    "all_residuals = valid_y - car_lm_pred\n",
    "\n",
    "# Determine the percentage of datapoints with a residual in [-1406, 1406] = approx. 75\\%\n",
    "print(len(all_residuals[(all_residuals > -1406) & (all_residuals < 1406)]) / len(all_residuals))\n",
    "\n",
    "ax = pd.DataFrame({'Residuals': all_residuals}).hist(bins=30)\n",
    "\n",
    "plt.tight_layout()\n",
    "plt.show()"
   ]
  },
  {
   "attachments": {},
   "cell_type": "markdown",
   "metadata": {},
   "source": [
    "## Table 6.5\n",
    "Run an exhaustive search. The Fuel type column is categorical and needs to be converted into dummy variables."
   ]
  },
  {
   "cell_type": "code",
   "execution_count": 17,
   "metadata": {
    "execution": {
     "iopub.execute_input": "2023-04-26T18:39:57.546162Z",
     "iopub.status.busy": "2023-04-26T18:39:57.545576Z",
     "iopub.status.idle": "2023-04-26T18:40:04.126358Z",
     "shell.execute_reply": "2023-04-26T18:40:04.125232Z"
    }
   },
   "outputs": [
    {
     "name": "stdout",
     "output_type": "stream",
     "text": [
      "     n     r2adj          AIC  Age_08_04  Airco  Automatic  Automatic_airco  CD_Player  Doors   \n",
      "0    1  0.753146  8963.206470       True  False      False            False      False  False  \\\n",
      "1    2  0.827048  8786.310045       True  False      False             True      False  False   \n",
      "2    3  0.844565  8733.909259       True  False      False             True      False  False   \n",
      "3    4  0.854127  8703.154540       True  False      False             True      False  False   \n",
      "4    5  0.871198  8641.913198       True  False      False             True      False  False   \n",
      "5    6  0.877018  8619.781820       True  False      False             True      False  False   \n",
      "6    7  0.880200  8607.657855       True  False      False             True      False  False   \n",
      "7    8  0.882526  8598.837660       True  False      False             True      False  False   \n",
      "8    9  0.884670  8590.607650       True  False      False             True      False   True   \n",
      "9   10  0.886286  8584.533125       True  False       True             True      False   True   \n",
      "10  11  0.887580  8579.786515       True  False       True             True       True   True   \n",
      "11  12  0.887838  8579.611649       True  False       True             True       True   True   \n",
      "12  13  0.888341  8578.335839       True  False       True             True       True   True   \n",
      "13  14  0.888337  8579.327067       True  False       True             True       True   True   \n",
      "14  15  0.888328  8580.332401       True   True       True             True       True   True   \n",
      "15  16  0.888295  8581.445042       True   True       True             True       True   True   \n",
      "\n",
      "    Fuel_Type_Diesel  Fuel_Type_Petrol  Guarantee_Period     HP     KM  Mfr_Guarantee   \n",
      "0              False             False             False  False  False          False  \\\n",
      "1              False             False             False  False  False          False   \n",
      "2              False             False             False   True  False          False   \n",
      "3              False             False             False  False   True          False   \n",
      "4              False             False             False   True   True          False   \n",
      "5              False             False             False   True   True          False   \n",
      "6              False             False             False   True   True          False   \n",
      "7              False             False              True   True   True          False   \n",
      "8              False             False              True   True   True          False   \n",
      "9              False             False              True   True   True          False   \n",
      "10             False             False              True   True   True          False   \n",
      "11             False              True              True   True   True          False   \n",
      "12              True              True              True   True   True          False   \n",
      "13              True              True              True   True   True           True   \n",
      "14              True              True              True   True   True           True   \n",
      "15              True              True              True   True   True           True   \n",
      "\n",
      "    Powered_Windows  Quarterly_Tax  Sport_Model  Tow_Bar  \n",
      "0             False          False        False    False  \n",
      "1             False          False        False    False  \n",
      "2             False          False        False    False  \n",
      "3             False           True        False    False  \n",
      "4             False           True        False    False  \n",
      "5              True           True        False    False  \n",
      "6              True           True         True    False  \n",
      "7              True           True         True    False  \n",
      "8              True           True         True    False  \n",
      "9              True           True         True    False  \n",
      "10             True           True         True    False  \n",
      "11             True           True         True    False  \n",
      "12             True           True         True    False  \n",
      "13             True           True         True    False  \n",
      "14             True           True         True    False  \n",
      "15             True           True         True     True  \n"
     ]
    }
   ],
   "source": [
    "def train_model(variables):\n",
    "    model = LinearRegression()\n",
    "    model.fit(train_X[variables], train_y)\n",
    "    return model\n",
    "\n",
    "def score_model(model, variables):\n",
    "    pred_y = model.predict(train_X[variables])\n",
    "    # we negate as score is optimized to be as low as possible\n",
    "    return -adjusted_r2_score(train_y, pred_y, model)\n",
    "\n",
    "allVariables = train_X.columns\n",
    "results = exhaustive_search(allVariables, train_model, score_model)\n",
    "\n",
    "data = []\n",
    "for result in results:\n",
    "    model = result['model']\n",
    "    variables = result['variables']\n",
    "    AIC = AIC_score(train_y, model.predict(train_X[variables]), model)\n",
    "    \n",
    "    d = {'n': result['n'], 'r2adj': -result['score'], 'AIC': AIC}\n",
    "    d.update({var: var in result['variables'] for var in allVariables})\n",
    "    data.append(d)\n",
    "pd.set_option('display.width', 100)\n",
    "print(pd.DataFrame(data, columns=('n', 'r2adj', 'AIC') + tuple(sorted(allVariables))))\n",
    "pd.reset_option('display.width')"
   ]
  },
  {
   "attachments": {},
   "cell_type": "markdown",
   "metadata": {},
   "source": [
    "## Table 6.6 backward elimination"
   ]
  },
  {
   "cell_type": "code",
   "execution_count": 18,
   "metadata": {
    "execution": {
     "iopub.execute_input": "2023-04-26T18:40:04.130419Z",
     "iopub.status.busy": "2023-04-26T18:40:04.129329Z",
     "iopub.status.idle": "2023-04-26T18:40:04.280954Z",
     "shell.execute_reply": "2023-04-26T18:40:04.279929Z"
    }
   },
   "outputs": [
    {
     "name": "stdout",
     "output_type": "stream",
     "text": [
      "Variables: Age_08_04, KM, HP, Automatic, Doors, Quarterly_Tax, Mfr_Guarantee, Guarantee_Period, Airco, Automatic_airco, CD_Player, Powered_Windows, Sport_Model, Tow_Bar, Fuel_Type_Diesel, Fuel_Type_Petrol\n",
      "Start: score=8581.45\n",
      "Step: score=8580.33, remove Tow_Bar\n",
      "Step: score=8579.33, remove Airco\n",
      "Step: score=8578.34, remove Mfr_Guarantee\n",
      "Step: score=8578.34, remove None\n",
      "['Age_08_04', 'KM', 'HP', 'Automatic', 'Doors', 'Quarterly_Tax', 'Guarantee_Period', 'Automatic_airco', 'CD_Player', 'Powered_Windows', 'Sport_Model', 'Fuel_Type_Diesel', 'Fuel_Type_Petrol']\n"
     ]
    }
   ],
   "source": [
    "def train_model(variables):\n",
    "    model = LinearRegression()\n",
    "    model.fit(train_X[variables], train_y)\n",
    "    return model\n",
    "\n",
    "def score_model(model, variables):\n",
    "    return AIC_score(train_y, model.predict(train_X[variables]), model)\n",
    "\n",
    "best_model, best_variables = backward_elimination(train_X.columns, train_model, score_model, verbose=True)\n",
    "\n",
    "print(best_variables)"
   ]
  },
  {
   "cell_type": "code",
   "execution_count": 19,
   "metadata": {
    "execution": {
     "iopub.execute_input": "2023-04-26T18:40:04.283669Z",
     "iopub.status.busy": "2023-04-26T18:40:04.283272Z",
     "iopub.status.idle": "2023-04-26T18:40:04.289960Z",
     "shell.execute_reply": "2023-04-26T18:40:04.289266Z"
    }
   },
   "outputs": [
    {
     "name": "stdout",
     "output_type": "stream",
     "text": [
      "\n",
      "Regression statistics\n",
      "\n",
      "                      Mean Error (ME) : -36.3664\n",
      "       Root Mean Squared Error (RMSE) : 1261.4573\n",
      "            Mean Absolute Error (MAE) : 963.4325\n",
      "          Mean Percentage Error (MPE) : -1.8819\n",
      "Mean Absolute Percentage Error (MAPE) : 8.7714\n"
     ]
    }
   ],
   "source": [
    "regressionSummary(valid_y, best_model.predict(valid_X[best_variables]))"
   ]
  },
  {
   "attachments": {},
   "cell_type": "markdown",
   "metadata": {},
   "source": [
    "## Table 6.7 Forward selection"
   ]
  },
  {
   "cell_type": "code",
   "execution_count": 20,
   "metadata": {
    "execution": {
     "iopub.execute_input": "2023-04-26T18:40:04.292673Z",
     "iopub.status.busy": "2023-04-26T18:40:04.291985Z",
     "iopub.status.idle": "2023-04-26T18:40:04.465700Z",
     "shell.execute_reply": "2023-04-26T18:40:04.464705Z"
    }
   },
   "outputs": [
    {
     "name": "stdout",
     "output_type": "stream",
     "text": [
      "Variables: Age_08_04, KM, HP, Automatic, Doors, Quarterly_Tax, Mfr_Guarantee, Guarantee_Period, Airco, Automatic_airco, CD_Player, Powered_Windows, Sport_Model, Tow_Bar, Fuel_Type_Diesel, Fuel_Type_Petrol\n",
      "Start: score=9661.69, constant\n",
      "Step: score=8963.21, add Age_08_04\n",
      "Step: score=8786.31, add Automatic_airco\n",
      "Step: score=8733.91, add HP\n",
      "Step: score=8705.68, add KM\n",
      "Step: score=8641.91, add Quarterly_Tax\n",
      "Step: score=8619.78, add Powered_Windows\n",
      "Step: score=8607.66, add Sport_Model\n",
      "Step: score=8598.84, add Guarantee_Period\n",
      "Step: score=8590.61, add Doors\n",
      "Step: score=8584.53, add Automatic\n",
      "Step: score=8579.79, add CD_Player\n",
      "Step: score=8579.61, add Fuel_Type_Petrol\n",
      "Step: score=8578.34, add Fuel_Type_Diesel\n",
      "Step: score=8578.34, add None\n",
      "['Age_08_04', 'Automatic_airco', 'HP', 'KM', 'Quarterly_Tax', 'Powered_Windows', 'Sport_Model', 'Guarantee_Period', 'Doors', 'Automatic', 'CD_Player', 'Fuel_Type_Petrol', 'Fuel_Type_Diesel']\n"
     ]
    }
   ],
   "source": [
    "# The initial model is the constant model - this requires special handling\n",
    "# in train_model and score_model\n",
    "def train_model(variables):\n",
    "    if len(variables) == 0:\n",
    "        return None\n",
    "    model = LinearRegression()\n",
    "    model.fit(train_X[variables], train_y)\n",
    "    return model\n",
    "\n",
    "def score_model(model, variables):\n",
    "    if len(variables) == 0:\n",
    "        return AIC_score(train_y, [train_y.mean()] * len(train_y), model, df=1)\n",
    "    return AIC_score(train_y, model.predict(train_X[variables]), model)\n",
    "\n",
    "best_model, best_variables = forward_selection(train_X.columns, train_model, score_model, verbose=True)\n",
    "\n",
    "print(best_variables)"
   ]
  },
  {
   "cell_type": "code",
   "execution_count": 22,
   "metadata": {
    "execution": {
     "iopub.execute_input": "2023-04-26T18:40:04.468505Z",
     "iopub.status.busy": "2023-04-26T18:40:04.468086Z",
     "iopub.status.idle": "2023-04-26T18:40:04.743901Z",
     "shell.execute_reply": "2023-04-26T18:40:04.742924Z"
    }
   },
   "outputs": [
    {
     "name": "stdout",
     "output_type": "stream",
     "text": [
      "Variables: Age_08_04, KM, HP, Automatic, Doors, Quarterly_Tax, Mfr_Guarantee, Guarantee_Period, Airco, Automatic_airco, CD_Player, Powered_Windows, Sport_Model, Tow_Bar, Fuel_Type_Diesel, Fuel_Type_Petrol\n",
      "Start: score=9661.69, constant\n",
      "Step: score=8963.21, add Age_08_04\n",
      "Step: score=8786.31, add Automatic_airco\n",
      "Step: score=8733.91, add HP\n",
      "Step: score=8705.68, add KM\n",
      "Step: score=8641.91, add Quarterly_Tax\n",
      "Step: score=8619.78, add Powered_Windows\n",
      "Step: score=8607.66, add Sport_Model\n",
      "Step: score=8598.84, add Guarantee_Period\n",
      "Step: score=8590.61, add Doors\n",
      "Step: score=8584.53, add Automatic\n",
      "Step: score=8579.79, add CD_Player\n",
      "Step: score=8579.61, add Fuel_Type_Petrol\n",
      "Step: score=8578.34, add Fuel_Type_Diesel\n",
      "Step: score=8578.34, unchanged None\n",
      "['Age_08_04', 'Automatic_airco', 'HP', 'KM', 'Quarterly_Tax', 'Powered_Windows', 'Sport_Model', 'Guarantee_Period', 'Doors', 'Automatic', 'CD_Player', 'Fuel_Type_Petrol', 'Fuel_Type_Diesel']\n"
     ]
    }
   ],
   "source": [
    "best_model, best_variables = stepwise_selection(train_X.columns, train_model, score_model, verbose=True)\n",
    "\n",
    "print(best_variables)"
   ]
  },
  {
   "attachments": {},
   "cell_type": "markdown",
   "metadata": {},
   "source": [
    "## Table XX regularized methods"
   ]
  },
  {
   "cell_type": "code",
   "execution_count": 23,
   "metadata": {
    "execution": {
     "iopub.execute_input": "2023-04-26T18:40:04.747221Z",
     "iopub.status.busy": "2023-04-26T18:40:04.746235Z",
     "iopub.status.idle": "2023-04-26T18:40:04.805891Z",
     "shell.execute_reply": "2023-04-26T18:40:04.804873Z"
    }
   },
   "outputs": [
    {
     "name": "stdout",
     "output_type": "stream",
     "text": [
      "\n",
      "Regression statistics\n",
      "\n",
      "                      Mean Error (ME) : -43.7331\n",
      "       Root Mean Squared Error (RMSE) : 1241.8072\n",
      "            Mean Absolute Error (MAE) : 946.7051\n",
      "          Mean Percentage Error (MPE) : -1.9044\n",
      "Mean Absolute Percentage Error (MAPE) : 8.6048\n",
      "\n",
      "Regression statistics\n",
      "\n",
      "                      Mean Error (ME) : -42.4695\n",
      "       Root Mean Squared Error (RMSE) : 1243.6887\n",
      "            Mean Absolute Error (MAE) : 946.6830\n",
      "          Mean Percentage Error (MPE) : -1.9034\n",
      "Mean Absolute Percentage Error (MAPE) : 8.6021\n",
      "Lasso-CV chosen regularization:  3.2856840628927344\n",
      "[-1965.70726247  -717.08280396   480.66282082   147.81342565\n",
      "   163.49298932   744.09537408    58.96939077   240.10749592\n",
      "    74.99799982   840.30765789   178.37045242   239.58777015\n",
      "   267.13437861   -51.97178995   259.2338857    369.45559603]\n",
      "\n",
      "Regression statistics\n",
      "\n",
      "                      Mean Error (ME) : -44.4681\n",
      "       Root Mean Squared Error (RMSE) : 1241.5647\n",
      "            Mean Absolute Error (MAE) : 946.7185\n",
      "          Mean Percentage Error (MPE) : -1.9141\n",
      "Mean Absolute Percentage Error (MAPE) : 8.6047\n",
      "\n",
      "Regression statistics\n",
      "\n",
      "                      Mean Error (ME) : -45.0848\n",
      "       Root Mean Squared Error (RMSE) : 1243.2694\n",
      "            Mean Absolute Error (MAE) : 946.8498\n",
      "          Mean Percentage Error (MPE) : -1.9421\n",
      "Mean Absolute Percentage Error (MAPE) : 8.6020\n",
      "Bayesian ridge chosen regularization:  4.001048748344861\n"
     ]
    }
   ],
   "source": [
    "from sklearn.pipeline import Pipeline\n",
    "from sklearn.preprocessing import StandardScaler\n",
    "\n",
    "lasso = Pipeline([\n",
    "    ['normalize', StandardScaler()],\n",
    "    ['model', Lasso(alpha=1)],\n",
    "])\n",
    "lasso.fit(train_X, train_y)\n",
    "regressionSummary(valid_y, lasso.predict(valid_X))\n",
    "\n",
    "lasso_cv = Pipeline([\n",
    "    ['normalize', StandardScaler()],\n",
    "    ['model', LassoCV(cv=5)],\n",
    "])\n",
    "lasso_cv.fit(train_X, train_y)\n",
    "regressionSummary(valid_y, lasso_cv.predict(valid_X))\n",
    "print('Lasso-CV chosen regularization: ', lasso_cv['model'].alpha_)\n",
    "print(lasso_cv['model'].coef_)\n",
    "\n",
    "ridge = Pipeline([\n",
    "    ['normalize', StandardScaler()],\n",
    "    ['model', Ridge(alpha=1)],\n",
    "])\n",
    "ridge.fit(train_X, train_y)\n",
    "regressionSummary(valid_y, ridge.predict(valid_X))\n",
    "\n",
    "bayesianRidge = Pipeline([\n",
    "    ['normalize', StandardScaler()],\n",
    "    ['model', BayesianRidge()],\n",
    "])\n",
    "bayesianRidge.fit(train_X, train_y)\n",
    "regressionSummary(valid_y, bayesianRidge.predict(valid_X))\n",
    "print('Bayesian ridge chosen regularization: ', \n",
    "      bayesianRidge['model'].lambda_ / bayesianRidge['model'].alpha_)"
   ]
  },
  {
   "cell_type": "code",
   "execution_count": 24,
   "metadata": {
    "execution": {
     "iopub.execute_input": "2023-04-26T18:40:04.808384Z",
     "iopub.status.busy": "2023-04-26T18:40:04.808046Z",
     "iopub.status.idle": "2023-04-26T18:40:04.819274Z",
     "shell.execute_reply": "2023-04-26T18:40:04.818309Z"
    }
   },
   "outputs": [
    {
     "name": "stdout",
     "output_type": "stream",
     "text": [
      "\n",
      "Regression statistics\n",
      "\n",
      "                      Mean Error (ME) : -44.2898\n",
      "       Root Mean Squared Error (RMSE) : 1241.0357\n",
      "            Mean Absolute Error (MAE) : 946.7135\n",
      "          Mean Percentage Error (MPE) : -1.9049\n",
      "Mean Absolute Percentage Error (MAPE) : 8.6060\n"
     ]
    }
   ],
   "source": [
    "linearRegression = Pipeline([\n",
    "    ['normalize', StandardScaler()],\n",
    "    ['model', LinearRegression()],\n",
    "])\n",
    "linearRegression.fit(train_X, train_y)\n",
    "regressionSummary(valid_y, linearRegression.predict(valid_X))"
   ]
  },
  {
   "cell_type": "code",
   "execution_count": 25,
   "metadata": {
    "execution": {
     "iopub.execute_input": "2023-04-26T18:40:04.821767Z",
     "iopub.status.busy": "2023-04-26T18:40:04.821158Z",
     "iopub.status.idle": "2023-04-26T18:40:04.831102Z",
     "shell.execute_reply": "2023-04-26T18:40:04.830322Z"
    }
   },
   "outputs": [
    {
     "data": {
      "text/html": [
       "<div>\n",
       "<style scoped>\n",
       "    .dataframe tbody tr th:only-of-type {\n",
       "        vertical-align: middle;\n",
       "    }\n",
       "\n",
       "    .dataframe tbody tr th {\n",
       "        vertical-align: top;\n",
       "    }\n",
       "\n",
       "    .dataframe thead th {\n",
       "        text-align: right;\n",
       "    }\n",
       "</style>\n",
       "<table border=\"1\" class=\"dataframe\">\n",
       "  <thead>\n",
       "    <tr style=\"text-align: right;\">\n",
       "      <th></th>\n",
       "      <th>features</th>\n",
       "      <th>linear regression</th>\n",
       "      <th>lassoCV</th>\n",
       "      <th>bayesianRidge</th>\n",
       "    </tr>\n",
       "  </thead>\n",
       "  <tbody>\n",
       "    <tr>\n",
       "      <th>0</th>\n",
       "      <td>Age_08_04</td>\n",
       "      <td>-1960.706932</td>\n",
       "      <td>-1965.707262</td>\n",
       "      <td>-1931.803835</td>\n",
       "    </tr>\n",
       "    <tr>\n",
       "      <th>1</th>\n",
       "      <td>KM</td>\n",
       "      <td>-714.888876</td>\n",
       "      <td>-717.082804</td>\n",
       "      <td>-728.850120</td>\n",
       "    </tr>\n",
       "    <tr>\n",
       "      <th>2</th>\n",
       "      <td>HP</td>\n",
       "      <td>487.242387</td>\n",
       "      <td>480.662821</td>\n",
       "      <td>484.245473</td>\n",
       "    </tr>\n",
       "    <tr>\n",
       "      <th>3</th>\n",
       "      <td>Automatic</td>\n",
       "      <td>150.351843</td>\n",
       "      <td>147.813426</td>\n",
       "      <td>148.514998</td>\n",
       "    </tr>\n",
       "    <tr>\n",
       "      <th>4</th>\n",
       "      <td>Doors</td>\n",
       "      <td>164.135378</td>\n",
       "      <td>163.492989</td>\n",
       "      <td>167.954614</td>\n",
       "    </tr>\n",
       "    <tr>\n",
       "      <th>5</th>\n",
       "      <td>Quarterly_Tax</td>\n",
       "      <td>760.588523</td>\n",
       "      <td>744.095374</td>\n",
       "      <td>736.261945</td>\n",
       "    </tr>\n",
       "    <tr>\n",
       "      <th>6</th>\n",
       "      <td>Mfr_Guarantee</td>\n",
       "      <td>62.053547</td>\n",
       "      <td>58.969391</td>\n",
       "      <td>64.181169</td>\n",
       "    </tr>\n",
       "    <tr>\n",
       "      <th>7</th>\n",
       "      <td>Guarantee_Period</td>\n",
       "      <td>247.238606</td>\n",
       "      <td>240.107496</td>\n",
       "      <td>245.857940</td>\n",
       "    </tr>\n",
       "    <tr>\n",
       "      <th>8</th>\n",
       "      <td>Airco</td>\n",
       "      <td>75.741320</td>\n",
       "      <td>74.998000</td>\n",
       "      <td>81.525950</td>\n",
       "    </tr>\n",
       "    <tr>\n",
       "      <th>9</th>\n",
       "      <td>Automatic_airco</td>\n",
       "      <td>839.154819</td>\n",
       "      <td>840.307658</td>\n",
       "      <td>839.632529</td>\n",
       "    </tr>\n",
       "    <tr>\n",
       "      <th>10</th>\n",
       "      <td>CD_Player</td>\n",
       "      <td>182.070234</td>\n",
       "      <td>178.370452</td>\n",
       "      <td>191.317133</td>\n",
       "    </tr>\n",
       "    <tr>\n",
       "      <th>11</th>\n",
       "      <td>Powered_Windows</td>\n",
       "      <td>240.202306</td>\n",
       "      <td>239.587770</td>\n",
       "      <td>239.934342</td>\n",
       "    </tr>\n",
       "    <tr>\n",
       "      <th>12</th>\n",
       "      <td>Sport_Model</td>\n",
       "      <td>269.679989</td>\n",
       "      <td>267.134379</td>\n",
       "      <td>273.402831</td>\n",
       "    </tr>\n",
       "    <tr>\n",
       "      <th>13</th>\n",
       "      <td>Tow_Bar</td>\n",
       "      <td>-54.828078</td>\n",
       "      <td>-51.971790</td>\n",
       "      <td>-57.498316</td>\n",
       "    </tr>\n",
       "    <tr>\n",
       "      <th>14</th>\n",
       "      <td>Fuel_Type_Diesel</td>\n",
       "      <td>320.719206</td>\n",
       "      <td>259.233886</td>\n",
       "      <td>281.659328</td>\n",
       "    </tr>\n",
       "    <tr>\n",
       "      <th>15</th>\n",
       "      <td>Fuel_Type_Petrol</td>\n",
       "      <td>440.415356</td>\n",
       "      <td>369.455596</td>\n",
       "      <td>373.546990</td>\n",
       "    </tr>\n",
       "  </tbody>\n",
       "</table>\n",
       "</div>"
      ],
      "text/plain": [
       "            features  linear regression      lassoCV  bayesianRidge\n",
       "0          Age_08_04       -1960.706932 -1965.707262   -1931.803835\n",
       "1                 KM        -714.888876  -717.082804    -728.850120\n",
       "2                 HP         487.242387   480.662821     484.245473\n",
       "3          Automatic         150.351843   147.813426     148.514998\n",
       "4              Doors         164.135378   163.492989     167.954614\n",
       "5      Quarterly_Tax         760.588523   744.095374     736.261945\n",
       "6      Mfr_Guarantee          62.053547    58.969391      64.181169\n",
       "7   Guarantee_Period         247.238606   240.107496     245.857940\n",
       "8              Airco          75.741320    74.998000      81.525950\n",
       "9    Automatic_airco         839.154819   840.307658     839.632529\n",
       "10         CD_Player         182.070234   178.370452     191.317133\n",
       "11   Powered_Windows         240.202306   239.587770     239.934342\n",
       "12       Sport_Model         269.679989   267.134379     273.402831\n",
       "13           Tow_Bar         -54.828078   -51.971790     -57.498316\n",
       "14  Fuel_Type_Diesel         320.719206   259.233886     281.659328\n",
       "15  Fuel_Type_Petrol         440.415356   369.455596     373.546990"
      ]
     },
     "execution_count": 25,
     "metadata": {},
     "output_type": "execute_result"
    }
   ],
   "source": [
    "pd.DataFrame({\n",
    "    'features': train_X.columns, \n",
    "    'linear regression': linearRegression['model'].coef_, \n",
    "    'lassoCV': lasso_cv['model'].coef_, \n",
    "    'bayesianRidge': bayesianRidge['model'].coef_,\n",
    "})"
   ]
  },
  {
   "attachments": {},
   "cell_type": "markdown",
   "metadata": {},
   "source": [
    "## Table 6.10"
   ]
  },
  {
   "cell_type": "code",
   "execution_count": 26,
   "metadata": {
    "execution": {
     "iopub.execute_input": "2023-04-26T18:40:04.833531Z",
     "iopub.status.busy": "2023-04-26T18:40:04.833007Z",
     "iopub.status.idle": "2023-04-26T18:40:04.864371Z",
     "shell.execute_reply": "2023-04-26T18:40:04.863594Z"
    },
    "scrolled": false
   },
   "outputs": [
    {
     "name": "stdout",
     "output_type": "stream",
     "text": [
      "                            OLS Regression Results                            \n",
      "==============================================================================\n",
      "Dep. Variable:                  Price   R-squared:                       0.892\n",
      "Model:                            OLS   Adj. R-squared:                  0.888\n",
      "Method:                 Least Squares   F-statistic:                     249.0\n",
      "Date:                Wed, 21 Jun 2023   Prob (F-statistic):          2.36e-221\n",
      "Time:                        21:00:21   Log-Likelihood:                -4272.7\n",
      "No. Observations:                 500   AIC:                             8579.\n",
      "Df Residuals:                     483   BIC:                             8651.\n",
      "Df Model:                          16                                         \n",
      "Covariance Type:            nonrobust                                         \n",
      "============================================================================================\n",
      "                               coef    std err          t      P>|t|      [0.025      0.975]\n",
      "--------------------------------------------------------------------------------------------\n",
      "Intercept                 1.051e+04    907.550     11.578      0.000    8724.298    1.23e+04\n",
      "Fuel_Type_Diesel[T.True]   953.6602    541.393      1.761      0.079    -110.116    2017.436\n",
      "Fuel_Type_Petrol[T.True]  1254.4239    556.201      2.255      0.025     161.552    2347.296\n",
      "Age_08_04                 -113.6944      5.588    -20.348      0.000    -124.673    -102.715\n",
      "KM                          -0.0198      0.002     -8.526      0.000      -0.024      -0.015\n",
      "HP                          32.6366      5.204      6.271      0.000      22.411      42.863\n",
      "Automatic                  689.8616    263.349      2.620      0.009     172.410    1207.314\n",
      "Doors                      171.0148     62.380      2.741      0.006      48.445     293.585\n",
      "Quarterly_Tax               17.3265      2.690      6.441      0.000      12.041      22.612\n",
      "Mfr_Guarantee              124.5904    119.721      1.041      0.299    -110.649     359.830\n",
      "Guarantee_Period            81.1548     20.105      4.037      0.000      41.651     120.659\n",
      "Airco                      155.7317    161.576      0.964      0.336    -161.746     473.209\n",
      "Automatic_airco           3025.2043    252.581     11.977      0.000    2528.911    3521.498\n",
      "CD_Player                  399.6345    152.776      2.616      0.009      99.447     699.822\n",
      "Powered_Windows            499.2268    159.453      3.131      0.002     185.920     812.534\n",
      "Sport_Model                604.6515    140.676      4.298      0.000     328.240     881.063\n",
      "Tow_Bar                   -125.6309    135.633     -0.926      0.355    -392.135     140.873\n",
      "==============================================================================\n",
      "Omnibus:                       69.618   Durbin-Watson:                   1.824\n",
      "Prob(Omnibus):                  0.000   Jarque-Bera (JB):              198.180\n",
      "Skew:                           0.668   Prob(JB):                     9.24e-44\n",
      "Kurtosis:                       5.780   Cond. No.                     1.37e+06\n",
      "==============================================================================\n",
      "\n",
      "Notes:\n",
      "[1] Standard Errors assume that the covariance matrix of the errors is correctly specified.\n",
      "[2] The condition number is large, 1.37e+06. This might indicate that there are\n",
      "strong multicollinearity or other numerical problems.\n"
     ]
    }
   ],
   "source": [
    "# run a linear regression of Price on the remaining 11 predictors in the training set\n",
    "train_df = train_X.join(train_y)\n",
    "\n",
    "predictors = train_X.columns\n",
    "formula = 'Price ~ ' + ' + '.join(predictors)\n",
    "\n",
    "car_lm = sm.ols(formula=formula, data=train_df).fit()\n",
    "print(car_lm.summary())"
   ]
  },
  {
   "cell_type": "code",
   "execution_count": null,
   "metadata": {},
   "outputs": [],
   "source": []
  }
 ],
 "metadata": {
  "kernelspec": {
   "display_name": "Python 3 (ipykernel)",
   "language": "python",
   "name": "python3"
  },
  "language_info": {
   "codemirror_mode": {
    "name": "ipython",
    "version": 3
   },
   "file_extension": ".py",
   "mimetype": "text/x-python",
   "name": "python",
   "nbconvert_exporter": "python",
   "pygments_lexer": "ipython3",
   "version": "3.9.6"
  }
 },
 "nbformat": 4,
 "nbformat_minor": 2
}
